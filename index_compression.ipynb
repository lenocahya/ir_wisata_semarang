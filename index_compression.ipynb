{
 "cells": [
  {
   "cell_type": "code",
   "execution_count": 10,
   "metadata": {},
   "outputs": [],
   "source": [
    "import pandas as pd\n",
    "import numpy as np"
   ]
  },
  {
   "cell_type": "code",
   "execution_count": 11,
   "metadata": {},
   "outputs": [
    {
     "data": {
      "text/html": [
       "<div>\n",
       "<style scoped>\n",
       "    .dataframe tbody tr th:only-of-type {\n",
       "        vertical-align: middle;\n",
       "    }\n",
       "\n",
       "    .dataframe tbody tr th {\n",
       "        vertical-align: top;\n",
       "    }\n",
       "\n",
       "    .dataframe thead th {\n",
       "        text-align: right;\n",
       "    }\n",
       "</style>\n",
       "<table border=\"1\" class=\"dataframe\">\n",
       "  <thead>\n",
       "    <tr style=\"text-align: right;\">\n",
       "      <th></th>\n",
       "      <th>Terms</th>\n",
       "      <th>docFreq</th>\n",
       "      <th>postList</th>\n",
       "    </tr>\n",
       "  </thead>\n",
       "  <tbody>\n",
       "    <tr>\n",
       "      <th>0</th>\n",
       "      <td>abad</td>\n",
       "      <td>2</td>\n",
       "      <td>[2, 29]</td>\n",
       "    </tr>\n",
       "    <tr>\n",
       "      <th>1</th>\n",
       "      <td>acara</td>\n",
       "      <td>2</td>\n",
       "      <td>[30, 30]</td>\n",
       "    </tr>\n",
       "    <tr>\n",
       "      <th>2</th>\n",
       "      <td>ada</td>\n",
       "      <td>9</td>\n",
       "      <td>[10, 11, 6, 35, 14, 4, 28, 35, 36]</td>\n",
       "    </tr>\n",
       "    <tr>\n",
       "      <th>3</th>\n",
       "      <td>adalah</td>\n",
       "      <td>7</td>\n",
       "      <td>[37, 33, 15, 18, 27, 35, 30]</td>\n",
       "    </tr>\n",
       "    <tr>\n",
       "      <th>4</th>\n",
       "      <td>adrenalin</td>\n",
       "      <td>2</td>\n",
       "      <td>[9, 17]</td>\n",
       "    </tr>\n",
       "    <tr>\n",
       "      <th>...</th>\n",
       "      <td>...</td>\n",
       "      <td>...</td>\n",
       "      <td>...</td>\n",
       "    </tr>\n",
       "    <tr>\n",
       "      <th>1104</th>\n",
       "      <td>youghurt</td>\n",
       "      <td>1</td>\n",
       "      <td>[36]</td>\n",
       "    </tr>\n",
       "    <tr>\n",
       "      <th>1105</th>\n",
       "      <td>yuk</td>\n",
       "      <td>3</td>\n",
       "      <td>[3, 0, 6]</td>\n",
       "    </tr>\n",
       "    <tr>\n",
       "      <th>1106</th>\n",
       "      <td>ziarah</td>\n",
       "      <td>1</td>\n",
       "      <td>[22]</td>\n",
       "    </tr>\n",
       "    <tr>\n",
       "      <th>1107</th>\n",
       "      <td>zipcoaster</td>\n",
       "      <td>1</td>\n",
       "      <td>[10]</td>\n",
       "    </tr>\n",
       "    <tr>\n",
       "      <th>1108</th>\n",
       "      <td>zona</td>\n",
       "      <td>1</td>\n",
       "      <td>[17]</td>\n",
       "    </tr>\n",
       "  </tbody>\n",
       "</table>\n",
       "<p>1109 rows × 3 columns</p>\n",
       "</div>"
      ],
      "text/plain": [
       "           Terms  docFreq                            postList\n",
       "0           abad        2                             [2, 29]\n",
       "1          acara        2                            [30, 30]\n",
       "2            ada        9  [10, 11, 6, 35, 14, 4, 28, 35, 36]\n",
       "3         adalah        7        [37, 33, 15, 18, 27, 35, 30]\n",
       "4      adrenalin        2                             [9, 17]\n",
       "...          ...      ...                                 ...\n",
       "1104    youghurt        1                                [36]\n",
       "1105         yuk        3                           [3, 0, 6]\n",
       "1106      ziarah        1                                [22]\n",
       "1107  zipcoaster        1                                [10]\n",
       "1108        zona        1                                [17]\n",
       "\n",
       "[1109 rows x 3 columns]"
      ]
     },
     "execution_count": 11,
     "metadata": {},
     "output_type": "execute_result"
    }
   ],
   "source": [
    "# Read Dataset format Dataframe\n",
    "df = pd.read_csv('invertedIndex.csv')\n",
    "df.head(None)"
   ]
  },
  {
   "cell_type": "code",
   "execution_count": 12,
   "metadata": {},
   "outputs": [
    {
     "name": "stdout",
     "output_type": "stream",
     "text": [
      "      Freq                         Posting_ptr Terms_ptr\n",
      "0        2                             [2, 29]       NaN\n",
      "1        2                            [30, 30]       NaN\n",
      "2        9  [10, 11, 6, 35, 14, 4, 28, 35, 36]       NaN\n",
      "3        7        [37, 33, 15, 18, 27, 35, 30]       NaN\n",
      "4        2                             [9, 17]       NaN\n",
      "...    ...                                 ...       ...\n",
      "1104     1                                [36]       NaN\n",
      "1105     3                           [3, 0, 6]       NaN\n",
      "1106     1                                [22]       NaN\n",
      "1107     1                                [10]       NaN\n",
      "1108     1                                [17]       NaN\n",
      "\n",
      "[1109 rows x 3 columns]\n"
     ]
    }
   ],
   "source": [
    "# Membuat dataframe baru\n",
    "df_dict = pd.DataFrame(columns = [\"Freq\",\"Posting_ptr\",\"Terms_ptr\"])\n",
    "\n",
    "df_dict[\"Freq\"] = df[\"docFreq\"]\n",
    "df_dict[\"Posting_ptr\"] = df[\"postList\"]\n",
    "\n",
    "print(df_dict)\n"
   ]
  },
  {
   "cell_type": "code",
   "execution_count": 13,
   "metadata": {},
   "outputs": [
    {
     "name": "stderr",
     "output_type": "stream",
     "text": [
      "C:\\Users\\User\\AppData\\Local\\Temp\\ipykernel_1984\\2704754000.py:7: SettingWithCopyWarning: \n",
      "A value is trying to be set on a copy of a slice from a DataFrame\n",
      "\n",
      "See the caveats in the documentation: https://pandas.pydata.org/pandas-docs/stable/user_guide/indexing.html#returning-a-view-versus-a-copy\n",
      "  df_dict[\"Terms_ptr\"].iloc[i] = term_counter\n"
     ]
    }
   ],
   "source": [
    "# Membuat term string dan term pointer\n",
    "term_str = \"\"\n",
    "term_counter = 0\n",
    "for i in range(194):\n",
    "    term = df[\"Terms\"].iloc[i]\n",
    "    term_str += term\n",
    "    df_dict[\"Terms_ptr\"].iloc[i] = term_counter\n",
    "    term_counter += len(term)\n"
   ]
  },
  {
   "cell_type": "code",
   "execution_count": 14,
   "metadata": {},
   "outputs": [
    {
     "name": "stdout",
     "output_type": "stream",
     "text": [
      "abadacaraadaadalahadrenalinadvantureagamaagendakanagroairairnyaajaajakakanakhirakomodasiaksesaktivitasalaalamalamialasallalternatifamanambarawaanakandandaanekaanginangklungantarantaraantaranyaantikapaapiareaarenarenaargoarsitekstunyaarsitekturartinyaasalnyaasliaspalassumptaasyikatapatasatauatraksiatvawalayoayooayunanbbagbagaibagaikanbagaimanabagibagianbahanbahasabahkanbaikbakalbaladewabalemongbambubanbanaranbandunganbangetbangsabangunanbantalanbanyakbanyubanyubirubanyukuningbarangbaratbarengbarubasahbasahanbaturbawahbawenbebatuanbeberapabedabegitubelandabeliaubenangbenihbentangbentukberadaberagamberartiberasalberbagaiberbalutberbasisberbauberbedabercocokberdakwahberdasarkanberdekatanberdirinyaberdoaberenangberfotoberjarakberjauhanberjuangberkelokberkemahberkonsepberkunjungberlamaberlikuberlokasibermainbermotorbernamabernuansaberolahragaberpusatbersamabersandarbersantaiberselerabersumberbertingkatberupaberziarahbesarbesarnyabesibetahbeternakbiasabiayabibitbidadaribikinbilliardbintorobirubisablantenbolodewobondbrawijayabrigdebuahbuatbuatanbudayabukabukitbukitcintabulanbumbungbundabungaburuanbutterflycafcagarbudayacampingcandicantiknyacapingcaricaturcavingcelosiacenderungcentercentralchocomorycimorycintacm\n"
     ]
    }
   ],
   "source": [
    "print(term_str)"
   ]
  },
  {
   "cell_type": "code",
   "execution_count": 15,
   "metadata": {},
   "outputs": [
    {
     "name": "stdout",
     "output_type": "stream",
     "text": [
      "      Freq                         Posting_ptr Terms_ptr\n",
      "0        2                             [2, 29]         0\n",
      "1        2                            [30, 30]         4\n",
      "2        9  [10, 11, 6, 35, 14, 4, 28, 35, 36]         9\n",
      "3        7        [37, 33, 15, 18, 27, 35, 30]        12\n",
      "4        2                             [9, 17]        18\n",
      "...    ...                                 ...       ...\n",
      "1104     1                                [36]       NaN\n",
      "1105     3                           [3, 0, 6]       NaN\n",
      "1106     1                                [22]       NaN\n",
      "1107     1                                [10]       NaN\n",
      "1108     1                                [17]       NaN\n",
      "\n",
      "[1109 rows x 3 columns]\n"
     ]
    }
   ],
   "source": [
    "print(df_dict)"
   ]
  },
  {
   "cell_type": "code",
   "execution_count": 16,
   "metadata": {},
   "outputs": [],
   "source": [
    "# Export to csv\n",
    "df_dict.to_csv('compressed_index_dict.csv',index=False)\n",
    "text_file = open(\"hasil_kompres.txt\", \"w\")\n",
    "text_file.write(term_str)\n",
    "text_file.close()\n",
    "\n"
   ]
  }
 ],
 "metadata": {
  "kernelspec": {
   "display_name": "Python 3.10.6 64-bit",
   "language": "python",
   "name": "python3"
  },
  "language_info": {
   "codemirror_mode": {
    "name": "ipython",
    "version": 3
   },
   "file_extension": ".py",
   "mimetype": "text/x-python",
   "name": "python",
   "nbconvert_exporter": "python",
   "pygments_lexer": "ipython3",
   "version": "3.10.6"
  },
  "orig_nbformat": 4,
  "vscode": {
   "interpreter": {
    "hash": "afb734500600fd355917ca529030176ea0ca205570884b88f2f6f7d791fd3fbe"
   }
  }
 },
 "nbformat": 4,
 "nbformat_minor": 2
}
