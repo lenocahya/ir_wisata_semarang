{
 "cells": [
  {
   "cell_type": "markdown",
   "metadata": {
    "id": "tVulCniEPLfz"
   },
   "source": [
    "## Crawling\n"
   ]
  },
  {
   "cell_type": "code",
   "execution_count": 1,
   "metadata": {
    "id": "ol3kJPSQbUGi"
   },
   "outputs": [],
   "source": [
    "import re\n",
    "import string\n",
    "import requests\n",
    "import numpy as np\n",
    "import pandas as pd\n",
    "from bs4 import BeautifulSoup\n",
    "from sklearn.feature_extraction.text import TfidfVectorizer"
   ]
  },
  {
   "cell_type": "code",
   "execution_count": 2,
   "metadata": {
    "id": "7atCpvWOea90"
   },
   "outputs": [],
   "source": [
    "from turtle import title\n",
    "\n",
    "\n",
    "def crawl(url, num_page):\n",
    "    \n",
    "    result = []\n",
    "    req = requests.get(url)\n",
    "    soup = BeautifulSoup(req.text, \"lxml\")\n",
    "    \n",
    "    #find paging page \n",
    "    paging = soup.find_all(\"nav\",{'class':'pagination'})\n",
    "    paging_link = paging[0].find_all('a',{'class':'pagination__page'})\n",
    "    last_page = num_page\n",
    "\n",
    "    #looping through paging\n",
    "    for i in range(1,last_page+1):\n",
    "        print(url+'page/'+str(i))\n",
    "\n",
    "        #find article link\n",
    "        req = requests.get(url+'page/'+str(i))\n",
    "        soup = BeautifulSoup(req.text, \"lxml\")\n",
    "        news_links = soup.find_all(\"div\",{'class':'thumb-container thumb-65'})\n",
    "        # print(news_links)\n",
    "\n",
    "        #looping through article link\n",
    "    \n",
    "        for idx,news in enumerate(news_links):\n",
    "            news_dict = {}\n",
    "\n",
    "            #find news title\n",
    "            title_news= news.find('h1',{'class':'entry__title'}).text.replace(\"\\n\", \"\").lower()\n",
    "            title_news = re.sub(r'[%s]' % re.escape(string.punctuation), ' ', title_news)\n",
    "            title_news = re.sub(r'[0-9]', '', title_news)\n",
    "    \n",
    "\n",
    "            #find urll news\n",
    "            url_news = news.find('a',{'class':''}).get('href')\n",
    "\n",
    "            \n",
    "            #find news content in url\n",
    "            req_news =  requests.get(url_news)\n",
    "            soup_news = BeautifulSoup(req_news.text, \"lxml\")\n",
    "\n",
    "            #find news content \n",
    "            news_content = soup_news.find(\"div\",{'class':'entry__article-wrap'})\n",
    "\n",
    "            #find paragraph in news content \n",
    "            p = news_content.find_all('p')\n",
    "            content = ' '.join(item .text for item in p)\n",
    "            news_content = content.encode('utf8','replace')\n",
    "\n",
    "            #wrap in dictionary \n",
    "            news_dict['no']=idx+1\n",
    "            news_dict['url'] = url_news\n",
    "            news_dict['title'] = title_news\n",
    "            news_dict['content'] = news_content\n",
    "            result.append(news_dict)\n",
    "         \n",
    "    return result"
   ]
  },
  {
   "cell_type": "code",
   "execution_count": 3,
   "metadata": {
    "colab": {
     "base_uri": "https://localhost:8080/"
    },
    "id": "FNR9ODHQG9k6",
    "outputId": "f685bce7-55c5-41bf-955a-5d591f435bbd"
   },
   "outputs": [
    {
     "name": "stdout",
     "output_type": "stream",
     "text": [
      "https://visitjawatengah.jatengprov.go.id/id/regency/kabupaten-semarang/destinasi-wisata/page/1\n",
      "https://visitjawatengah.jatengprov.go.id/id/regency/kabupaten-semarang/destinasi-wisata/page/2\n",
      "https://visitjawatengah.jatengprov.go.id/id/regency/kabupaten-semarang/destinasi-wisata/page/3\n",
      "https://visitjawatengah.jatengprov.go.id/id/regency/kabupaten-semarang/destinasi-wisata/page/4\n"
     ]
    }
   ],
   "source": [
    "url = 'https://visitjawatengah.jatengprov.go.id/id/regency/kabupaten-semarang/destinasi-wisata/'\n",
    "crwl  = crawl(url, 4)"
   ]
  },
  {
   "cell_type": "code",
   "execution_count": 4,
   "metadata": {
    "id": "GQFhDKkOSfFP"
   },
   "outputs": [
    {
     "data": {
      "text/html": [
       "<div>\n",
       "<style scoped>\n",
       "    .dataframe tbody tr th:only-of-type {\n",
       "        vertical-align: middle;\n",
       "    }\n",
       "\n",
       "    .dataframe tbody tr th {\n",
       "        vertical-align: top;\n",
       "    }\n",
       "\n",
       "    .dataframe thead th {\n",
       "        text-align: right;\n",
       "    }\n",
       "</style>\n",
       "<table border=\"1\" class=\"dataframe\">\n",
       "  <thead>\n",
       "    <tr style=\"text-align: right;\">\n",
       "      <th></th>\n",
       "      <th>no</th>\n",
       "      <th>url</th>\n",
       "      <th>title</th>\n",
       "      <th>content</th>\n",
       "    </tr>\n",
       "  </thead>\n",
       "  <tbody>\n",
       "    <tr>\n",
       "      <th>0</th>\n",
       "      <td>1</td>\n",
       "      <td>https://visitjawatengah.jatengprov.go.id/id/re...</td>\n",
       "      <td>puri kayana camping ground</td>\n",
       "      <td>b'#SobatWisata\\xc2\\xa0kangen ngecamp nggak nih...</td>\n",
       "    </tr>\n",
       "    <tr>\n",
       "      <th>1</th>\n",
       "      <td>2</td>\n",
       "      <td>https://visitjawatengah.jatengprov.go.id/id/re...</td>\n",
       "      <td>mengunjungi wisata religi nyatnyono</td>\n",
       "      <td>b'Desa Nyatnyono di lereng Gunung Ungaran dike...</td>\n",
       "    </tr>\n",
       "    <tr>\n",
       "      <th>2</th>\n",
       "      <td>3</td>\n",
       "      <td>https://visitjawatengah.jatengprov.go.id/id/re...</td>\n",
       "      <td>candi dukuh  petilasan prabu brawijaya</td>\n",
       "      <td>b'Candi Dukuh terletak di Desa Rowoboni, Kecam...</td>\n",
       "    </tr>\n",
       "    <tr>\n",
       "      <th>3</th>\n",
       "      <td>4</td>\n",
       "      <td>https://visitjawatengah.jatengprov.go.id/id/re...</td>\n",
       "      <td>hal spesial di desa wisata lerep</td>\n",
       "      <td>b'Jalan-jalan ke Semarang? Mampirlah ke Desa W...</td>\n",
       "    </tr>\n",
       "    <tr>\n",
       "      <th>4</th>\n",
       "      <td>5</td>\n",
       "      <td>https://visitjawatengah.jatengprov.go.id/id/re...</td>\n",
       "      <td>all in one in sunrise hill gedong songo</td>\n",
       "      <td>b'#SobatWisata\\xc2\\xa0lagi cari referensi rest...</td>\n",
       "    </tr>\n",
       "  </tbody>\n",
       "</table>\n",
       "</div>"
      ],
      "text/plain": [
       "   no                                                url  \\\n",
       "0   1  https://visitjawatengah.jatengprov.go.id/id/re...   \n",
       "1   2  https://visitjawatengah.jatengprov.go.id/id/re...   \n",
       "2   3  https://visitjawatengah.jatengprov.go.id/id/re...   \n",
       "3   4  https://visitjawatengah.jatengprov.go.id/id/re...   \n",
       "4   5  https://visitjawatengah.jatengprov.go.id/id/re...   \n",
       "\n",
       "                                      title  \\\n",
       "0               puri kayana camping ground    \n",
       "1      mengunjungi wisata religi nyatnyono    \n",
       "2   candi dukuh  petilasan prabu brawijaya    \n",
       "3         hal spesial di desa wisata lerep    \n",
       "4  all in one in sunrise hill gedong songo    \n",
       "\n",
       "                                             content  \n",
       "0  b'#SobatWisata\\xc2\\xa0kangen ngecamp nggak nih...  \n",
       "1  b'Desa Nyatnyono di lereng Gunung Ungaran dike...  \n",
       "2  b'Candi Dukuh terletak di Desa Rowoboni, Kecam...  \n",
       "3  b'Jalan-jalan ke Semarang? Mampirlah ke Desa W...  \n",
       "4  b'#SobatWisata\\xc2\\xa0lagi cari referensi rest...  "
      ]
     },
     "execution_count": 4,
     "metadata": {},
     "output_type": "execute_result"
    }
   ],
   "source": [
    "crwl = pd.DataFrame(crwl)\n",
    "crwl.head()"
   ]
  },
  {
   "cell_type": "code",
   "execution_count": 5,
   "metadata": {
    "colab": {
     "base_uri": "https://localhost:8080/"
    },
    "id": "ef-k72gOliMp",
    "outputId": "2c18ab59-6b97-4cdb-a53b-5e2c213252bd"
   },
   "outputs": [
    {
     "name": "stdout",
     "output_type": "stream",
     "text": [
      "<class 'pandas.core.frame.DataFrame'>\n",
      "RangeIndex: 38 entries, 0 to 37\n",
      "Data columns (total 4 columns):\n",
      " #   Column   Non-Null Count  Dtype \n",
      "---  ------   --------------  ----- \n",
      " 0   no       38 non-null     int64 \n",
      " 1   url      38 non-null     object\n",
      " 2   title    38 non-null     object\n",
      " 3   content  38 non-null     object\n",
      "dtypes: int64(1), object(3)\n",
      "memory usage: 1.3+ KB\n"
     ]
    }
   ],
   "source": [
    "crwl.info()"
   ]
  },
  {
   "cell_type": "code",
   "execution_count": 6,
   "metadata": {
    "id": "7wn6aNXTRnqU"
   },
   "outputs": [],
   "source": [
    "def documents_cleaning(doc):\n",
    "  docs_clean = []\n",
    "\n",
    "  for d in doc:\n",
    "      html = d.decode(\"utf-8\") \n",
    "      document_test = re.sub(r'[^\\x00-\\x7F]+', ' ', html)\n",
    "      document_test = re.sub(r'@\\w+', '', document_test)\n",
    "      document_test = document_test.lower()\n",
    "      document_test = re.sub(r'[%s]' % re.escape(string.punctuation), ' ', document_test)\n",
    "      document_test = re.sub(r'[0-9]', '', document_test)\n",
    "      document_test = re.sub(r'\\s{2,}', ' ', document_test)\n",
    "      document_test = document_test.replace(\"www\", \" \")\n",
    "      document_test = document_test.replace(\" com \", \" \")\n",
    "      document_test = document_test.replace(\"kompas\", \" \")\n",
    "      document_test = document_test.replace(\"visitjateng\", \" \")\n",
    "      document_test = document_test.replace(\"visitjawatengah\", \" \")\n",
    "      document_test = document_test.replace(\"kabsemarangtourism\", \" \")\n",
    "      document_test = document_test.replace(\"html\", \" \")\n",
    "      document_test = document_test.replace(\"http\", \" \")\n",
    "      document_test = document_test.replace(\"https\", \" \")\n",
    "      docs_clean.append(document_test)\n",
    "\n",
    "  return docs_clean"
   ]
  },
  {
   "cell_type": "code",
   "execution_count": 7,
   "metadata": {
    "id": "s6psL-p6SZRG"
   },
   "outputs": [],
   "source": [
    "crwl['clean_content'] = documents_cleaning(crwl['content'])"
   ]
  },
  {
   "cell_type": "code",
   "execution_count": 8,
   "metadata": {
    "colab": {
     "base_uri": "https://localhost:8080/",
     "height": 204
    },
    "id": "C1f2UI35W0oM",
    "outputId": "782f1fe6-3ea9-4e73-cf20-a0524c4d8af5"
   },
   "outputs": [
    {
     "data": {
      "text/html": [
       "<div>\n",
       "<style scoped>\n",
       "    .dataframe tbody tr th:only-of-type {\n",
       "        vertical-align: middle;\n",
       "    }\n",
       "\n",
       "    .dataframe tbody tr th {\n",
       "        vertical-align: top;\n",
       "    }\n",
       "\n",
       "    .dataframe thead th {\n",
       "        text-align: right;\n",
       "    }\n",
       "</style>\n",
       "<table border=\"1\" class=\"dataframe\">\n",
       "  <thead>\n",
       "    <tr style=\"text-align: right;\">\n",
       "      <th></th>\n",
       "      <th>no</th>\n",
       "      <th>url</th>\n",
       "      <th>title</th>\n",
       "      <th>content</th>\n",
       "      <th>clean_content</th>\n",
       "    </tr>\n",
       "  </thead>\n",
       "  <tbody>\n",
       "    <tr>\n",
       "      <th>0</th>\n",
       "      <td>1</td>\n",
       "      <td>https://visitjawatengah.jatengprov.go.id/id/re...</td>\n",
       "      <td>puri kayana camping ground</td>\n",
       "      <td>b'#SobatWisata\\xc2\\xa0kangen ngecamp nggak nih...</td>\n",
       "      <td>sobatwisata kangen ngecamp nggak nih cuss ber...</td>\n",
       "    </tr>\n",
       "    <tr>\n",
       "      <th>1</th>\n",
       "      <td>2</td>\n",
       "      <td>https://visitjawatengah.jatengprov.go.id/id/re...</td>\n",
       "      <td>mengunjungi wisata religi nyatnyono</td>\n",
       "      <td>b'Desa Nyatnyono di lereng Gunung Ungaran dike...</td>\n",
       "      <td>desa nyatnyono di lereng gunung ungaran dikena...</td>\n",
       "    </tr>\n",
       "    <tr>\n",
       "      <th>2</th>\n",
       "      <td>3</td>\n",
       "      <td>https://visitjawatengah.jatengprov.go.id/id/re...</td>\n",
       "      <td>candi dukuh  petilasan prabu brawijaya</td>\n",
       "      <td>b'Candi Dukuh terletak di Desa Rowoboni, Kecam...</td>\n",
       "      <td>candi dukuh terletak di desa rowoboni kecamata...</td>\n",
       "    </tr>\n",
       "    <tr>\n",
       "      <th>3</th>\n",
       "      <td>4</td>\n",
       "      <td>https://visitjawatengah.jatengprov.go.id/id/re...</td>\n",
       "      <td>hal spesial di desa wisata lerep</td>\n",
       "      <td>b'Jalan-jalan ke Semarang? Mampirlah ke Desa W...</td>\n",
       "      <td>jalan jalan ke semarang mampirlah ke desa wisa...</td>\n",
       "    </tr>\n",
       "    <tr>\n",
       "      <th>4</th>\n",
       "      <td>5</td>\n",
       "      <td>https://visitjawatengah.jatengprov.go.id/id/re...</td>\n",
       "      <td>all in one in sunrise hill gedong songo</td>\n",
       "      <td>b'#SobatWisata\\xc2\\xa0lagi cari referensi rest...</td>\n",
       "      <td>sobatwisata lagi cari referensi resto pengina...</td>\n",
       "    </tr>\n",
       "  </tbody>\n",
       "</table>\n",
       "</div>"
      ],
      "text/plain": [
       "   no                                                url  \\\n",
       "0   1  https://visitjawatengah.jatengprov.go.id/id/re...   \n",
       "1   2  https://visitjawatengah.jatengprov.go.id/id/re...   \n",
       "2   3  https://visitjawatengah.jatengprov.go.id/id/re...   \n",
       "3   4  https://visitjawatengah.jatengprov.go.id/id/re...   \n",
       "4   5  https://visitjawatengah.jatengprov.go.id/id/re...   \n",
       "\n",
       "                                      title  \\\n",
       "0               puri kayana camping ground    \n",
       "1      mengunjungi wisata religi nyatnyono    \n",
       "2   candi dukuh  petilasan prabu brawijaya    \n",
       "3         hal spesial di desa wisata lerep    \n",
       "4  all in one in sunrise hill gedong songo    \n",
       "\n",
       "                                             content  \\\n",
       "0  b'#SobatWisata\\xc2\\xa0kangen ngecamp nggak nih...   \n",
       "1  b'Desa Nyatnyono di lereng Gunung Ungaran dike...   \n",
       "2  b'Candi Dukuh terletak di Desa Rowoboni, Kecam...   \n",
       "3  b'Jalan-jalan ke Semarang? Mampirlah ke Desa W...   \n",
       "4  b'#SobatWisata\\xc2\\xa0lagi cari referensi rest...   \n",
       "\n",
       "                                       clean_content  \n",
       "0   sobatwisata kangen ngecamp nggak nih cuss ber...  \n",
       "1  desa nyatnyono di lereng gunung ungaran dikena...  \n",
       "2  candi dukuh terletak di desa rowoboni kecamata...  \n",
       "3  jalan jalan ke semarang mampirlah ke desa wisa...  \n",
       "4   sobatwisata lagi cari referensi resto pengina...  "
      ]
     },
     "execution_count": 8,
     "metadata": {},
     "output_type": "execute_result"
    }
   ],
   "source": [
    "crwl.head()\n",
    "\n"
   ]
  },
  {
   "cell_type": "code",
   "execution_count": 10,
   "metadata": {
    "id": "RqoSr3nmtzF8"
   },
   "outputs": [
    {
     "data": {
      "text/html": [
       "<div>\n",
       "<style scoped>\n",
       "    .dataframe tbody tr th:only-of-type {\n",
       "        vertical-align: middle;\n",
       "    }\n",
       "\n",
       "    .dataframe tbody tr th {\n",
       "        vertical-align: top;\n",
       "    }\n",
       "\n",
       "    .dataframe thead th {\n",
       "        text-align: right;\n",
       "    }\n",
       "</style>\n",
       "<table border=\"1\" class=\"dataframe\">\n",
       "  <thead>\n",
       "    <tr style=\"text-align: right;\">\n",
       "      <th></th>\n",
       "      <th>no</th>\n",
       "      <th>title</th>\n",
       "      <th>content</th>\n",
       "      <th>clean_content</th>\n",
       "      <th>url</th>\n",
       "    </tr>\n",
       "  </thead>\n",
       "  <tbody>\n",
       "    <tr>\n",
       "      <th>0</th>\n",
       "      <td>1</td>\n",
       "      <td>puri kayana camping ground</td>\n",
       "      <td>b'#SobatWisata\\xc2\\xa0kangen ngecamp nggak nih...</td>\n",
       "      <td>sobatwisata kangen ngecamp nggak nih cuss ber...</td>\n",
       "      <td>https://visitjawatengah.jatengprov.go.id/id/re...</td>\n",
       "    </tr>\n",
       "    <tr>\n",
       "      <th>1</th>\n",
       "      <td>2</td>\n",
       "      <td>mengunjungi wisata religi nyatnyono</td>\n",
       "      <td>b'Desa Nyatnyono di lereng Gunung Ungaran dike...</td>\n",
       "      <td>desa nyatnyono di lereng gunung ungaran dikena...</td>\n",
       "      <td>https://visitjawatengah.jatengprov.go.id/id/re...</td>\n",
       "    </tr>\n",
       "    <tr>\n",
       "      <th>2</th>\n",
       "      <td>3</td>\n",
       "      <td>candi dukuh  petilasan prabu brawijaya</td>\n",
       "      <td>b'Candi Dukuh terletak di Desa Rowoboni, Kecam...</td>\n",
       "      <td>candi dukuh terletak di desa rowoboni kecamata...</td>\n",
       "      <td>https://visitjawatengah.jatengprov.go.id/id/re...</td>\n",
       "    </tr>\n",
       "    <tr>\n",
       "      <th>3</th>\n",
       "      <td>4</td>\n",
       "      <td>hal spesial di desa wisata lerep</td>\n",
       "      <td>b'Jalan-jalan ke Semarang? Mampirlah ke Desa W...</td>\n",
       "      <td>jalan jalan ke semarang mampirlah ke desa wisa...</td>\n",
       "      <td>https://visitjawatengah.jatengprov.go.id/id/re...</td>\n",
       "    </tr>\n",
       "    <tr>\n",
       "      <th>4</th>\n",
       "      <td>5</td>\n",
       "      <td>all in one in sunrise hill gedong songo</td>\n",
       "      <td>b'#SobatWisata\\xc2\\xa0lagi cari referensi rest...</td>\n",
       "      <td>sobatwisata lagi cari referensi resto pengina...</td>\n",
       "      <td>https://visitjawatengah.jatengprov.go.id/id/re...</td>\n",
       "    </tr>\n",
       "  </tbody>\n",
       "</table>\n",
       "</div>"
      ],
      "text/plain": [
       "   no                                     title  \\\n",
       "0   1               puri kayana camping ground    \n",
       "1   2      mengunjungi wisata religi nyatnyono    \n",
       "2   3   candi dukuh  petilasan prabu brawijaya    \n",
       "3   4         hal spesial di desa wisata lerep    \n",
       "4   5  all in one in sunrise hill gedong songo    \n",
       "\n",
       "                                             content  \\\n",
       "0  b'#SobatWisata\\xc2\\xa0kangen ngecamp nggak nih...   \n",
       "1  b'Desa Nyatnyono di lereng Gunung Ungaran dike...   \n",
       "2  b'Candi Dukuh terletak di Desa Rowoboni, Kecam...   \n",
       "3  b'Jalan-jalan ke Semarang? Mampirlah ke Desa W...   \n",
       "4  b'#SobatWisata\\xc2\\xa0lagi cari referensi rest...   \n",
       "\n",
       "                                       clean_content  \\\n",
       "0   sobatwisata kangen ngecamp nggak nih cuss ber...   \n",
       "1  desa nyatnyono di lereng gunung ungaran dikena...   \n",
       "2  candi dukuh terletak di desa rowoboni kecamata...   \n",
       "3  jalan jalan ke semarang mampirlah ke desa wisa...   \n",
       "4   sobatwisata lagi cari referensi resto pengina...   \n",
       "\n",
       "                                                 url  \n",
       "0  https://visitjawatengah.jatengprov.go.id/id/re...  \n",
       "1  https://visitjawatengah.jatengprov.go.id/id/re...  \n",
       "2  https://visitjawatengah.jatengprov.go.id/id/re...  \n",
       "3  https://visitjawatengah.jatengprov.go.id/id/re...  \n",
       "4  https://visitjawatengah.jatengprov.go.id/id/re...  "
      ]
     },
     "execution_count": 10,
     "metadata": {},
     "output_type": "execute_result"
    }
   ],
   "source": [
    "datalink = crwl[['no','title','content','clean_content','url']]\n",
    "datalink.to_csv('crawl_wisata.csv', index=False)\n",
    "datalink.head()"
   ]
  }
 ],
 "metadata": {
  "kernelspec": {
   "display_name": "Python 3.10.6 64-bit",
   "language": "python",
   "name": "python3"
  },
  "language_info": {
   "codemirror_mode": {
    "name": "ipython",
    "version": 3
   },
   "file_extension": ".py",
   "mimetype": "text/x-python",
   "name": "python",
   "nbconvert_exporter": "python",
   "pygments_lexer": "ipython3",
   "version": "3.10.6"
  },
  "orig_nbformat": 4,
  "vscode": {
   "interpreter": {
    "hash": "afb734500600fd355917ca529030176ea0ca205570884b88f2f6f7d791fd3fbe"
   }
  }
 },
 "nbformat": 4,
 "nbformat_minor": 2
}
